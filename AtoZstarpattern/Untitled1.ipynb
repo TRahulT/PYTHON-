{
 "cells": [
  {
   "cell_type": "code",
   "execution_count": 36,
   "id": "ac578f73",
   "metadata": {},
   "outputs": [
    {
     "name": "stdout",
     "output_type": "stream",
     "text": [
      " *** \n",
      "*   *\n",
      "*   *\n",
      "*****\n",
      "*   *\n",
      "*   *\n",
      "*   *\n"
     ]
    }
   ],
   "source": [
    "for row in range(7):\n",
    "    for col in range(5):\n",
    "        if ((col==0 or col==4) and row!=0)  or (row==0 or row==3)and col>0 and col<4:\n",
    "            print(\"*\",end='')\n",
    "            \n",
    "        else:\n",
    "            print(end=' ')\n",
    "    print()"
   ]
  },
  {
   "cell_type": "code",
   "execution_count": 16,
   "id": "3a47ef6c",
   "metadata": {},
   "outputs": [
    {
     "name": "stdout",
     "output_type": "stream",
     "text": [
      "**** \n",
      "*   *\n",
      "*   *\n",
      "**** \n",
      "*   *\n",
      "*   *\n",
      "**** \n"
     ]
    }
   ],
   "source": [
    "for row in range(7):\n",
    "    for col in range(5):\n",
    "        if ((col==0 ) or (col==4 and (row!=0 and row!=3 and row!=6))) or ((row==0 or row==3 or row==6) and (col>0 and col<4)) :\n",
    "            print('*',end='')\n",
    "        else:\n",
    "            print(end=' ')\n",
    "    print()"
   ]
  },
  {
   "cell_type": "code",
   "execution_count": 22,
   "id": "b18b828e",
   "metadata": {},
   "outputs": [
    {
     "name": "stdout",
     "output_type": "stream",
     "text": [
      " ****\n",
      "*    \n",
      "*    \n",
      "*    \n",
      "*    \n",
      "*    \n",
      " ****\n"
     ]
    }
   ],
   "source": [
    "for row in range(7):\n",
    "    for col in range(5):\n",
    "        if(col==0 and (row!=0 and row!=6))or( (row==0 or row==6 ) and col>0):\n",
    "            print('*',end='')\n",
    "        else:\n",
    "            print(end=' ')\n",
    "    print()"
   ]
  },
  {
   "cell_type": "code",
   "execution_count": 33,
   "id": "c04ef072",
   "metadata": {},
   "outputs": [
    {
     "name": "stdout",
     "output_type": "stream",
     "text": [
      "**** \n",
      "*   *\n",
      "*   *\n",
      "*   *\n",
      "*   *\n",
      "*   *\n",
      "**** \n"
     ]
    }
   ],
   "source": [
    "for row in range(7):\n",
    "    for col in range(5):\n",
    "        if (col==0) or (col==4 and (row!=0 and row!=6)) or((row==0 or row==6)and (col>0 and col<4)):\n",
    "            print('*',end='')\n",
    "        else:\n",
    "            print(end=' ')\n",
    "    print()"
   ]
  },
  {
   "cell_type": "code",
   "execution_count": 34,
   "id": "35f24458",
   "metadata": {},
   "outputs": [
    {
     "name": "stdout",
     "output_type": "stream",
     "text": [
      "*****\n",
      "*    \n",
      "*    \n",
      "*****\n",
      "*    \n",
      "*    \n",
      "*****\n"
     ]
    }
   ],
   "source": [
    "for row in range(7):\n",
    "    for col in range(5):\n",
    "        if (col ==0 )or (row==0 or row==3 or row==6)and (col>0):\n",
    "            print('*',end='')\n",
    "        else:\n",
    "            print(end=' ')\n",
    "    print()"
   ]
  },
  {
   "cell_type": "code",
   "execution_count": 35,
   "id": "eb84b697",
   "metadata": {},
   "outputs": [
    {
     "name": "stdout",
     "output_type": "stream",
     "text": [
      "*****\n",
      "*    \n",
      "*    \n",
      "*****\n",
      "*    \n",
      "*    \n",
      "*    \n"
     ]
    }
   ],
   "source": [
    "for row in range(7):\n",
    "    for col in range(5):\n",
    "        if (col ==0 )or (row==0 or row==3 )and (col>0):\n",
    "            print('*',end='')\n",
    "        else:\n",
    "            print(end=' ')\n",
    "    print()"
   ]
  },
  {
   "cell_type": "code",
   "execution_count": 40,
   "id": "c9ac9b2f",
   "metadata": {},
   "outputs": [
    {
     "name": "stdout",
     "output_type": "stream",
     "text": [
      "* ** *\n",
      "*     \n",
      "*     \n",
      "*     \n",
      "*     \n",
      "*  * *\n",
      "* ** *\n"
     ]
    }
   ],
   "source": [
    "for row in range(7):\n",
    "    for col in range(6):\n",
    "        if (col==0) or((col==3 or col==5)and (row!=1 and row!=2 and row!=3  and row!=4))or (row==0 or row==6)and col>1 and col<3:\n",
    "            print(\"*\",end='')\n",
    "        else:\n",
    "            print(end=' ')\n",
    "    print()"
   ]
  },
  {
   "cell_type": "code",
   "execution_count": 1,
   "id": "8f66274f",
   "metadata": {},
   "outputs": [
    {
     "name": "stdout",
     "output_type": "stream",
     "text": [
      "*   *\n",
      "*   *\n",
      "*   *\n",
      "*****\n",
      "*   *\n",
      "*   *\n",
      "*   *\n"
     ]
    }
   ],
   "source": [
    "for row in range(7):\n",
    "    for col in range(5):\n",
    "        if(col==0 or col==4) or(( row==3) and (col>0 and col<4)):\n",
    "            print('*',end='')\n",
    "        else:\n",
    "            print(end=' ')\n",
    "    print()"
   ]
  },
  {
   "cell_type": "code",
   "execution_count": 2,
   "id": "5ec7a380",
   "metadata": {},
   "outputs": [
    {
     "name": "stdout",
     "output_type": "stream",
     "text": [
      "*****\n",
      "  *  \n",
      "  *  \n",
      "  *  \n",
      "  *  \n",
      "  *  \n",
      "*****\n"
     ]
    }
   ],
   "source": [
    "for row in range(7):\n",
    "    for col in range(5):\n",
    "        if (col==2)or ((row ==0)or (row==6)):\n",
    "            print('*',end='')\n",
    "        else:\n",
    "            print(end=\" \")\n",
    "    print()"
   ]
  },
  {
   "cell_type": "code",
   "execution_count": 13,
   "id": "c3085399",
   "metadata": {},
   "outputs": [
    {
     "name": "stdout",
     "output_type": "stream",
     "text": [
      "*****\n",
      "   * \n",
      "   * \n",
      "   * \n",
      "*  * \n",
      "*  * \n",
      " **  \n"
     ]
    }
   ],
   "source": [
    "for row in range(7):\n",
    "    for col in range(5):\n",
    "        if (col==0 and( row>3 and row<6)) or( row==0 or row==6 and col!=4 and col!=0 and col!=3)  or (col==3 and row!=6) :\n",
    "            print(\"*\",end='')\n",
    "        else:\n",
    "            print(end=\" \")\n",
    "    print()"
   ]
  },
  {
   "cell_type": "code",
   "execution_count": 4,
   "id": "f5a3cbd8",
   "metadata": {},
   "outputs": [
    {
     "name": "stdout",
     "output_type": "stream",
     "text": [
      "*   *\n",
      "*  * \n",
      "* *  \n",
      "**   \n",
      "* *  \n",
      "*  * \n",
      "*   *\n"
     ]
    }
   ],
   "source": [
    "\n",
    "for row in range(7):\n",
    "    for col in range(5):\n",
    "        if col==0 or row==col+2 or (row==0 and col==4) or( row==1 and col==3) or (row==2 and col==2):\n",
    "            print('*',end='')\n",
    "        else:\n",
    "            print(end=\" \")\n",
    "    print()"
   ]
  },
  {
   "cell_type": "code",
   "execution_count": 15,
   "id": "fdd858fe",
   "metadata": {},
   "outputs": [
    {
     "name": "stdout",
     "output_type": "stream",
     "text": [
      "*    \n",
      "*    \n",
      "*    \n",
      "*    \n",
      "*    \n",
      "*    \n",
      "*****\n"
     ]
    }
   ],
   "source": [
    "for row in range(7):\n",
    "    for col in range(5):\n",
    "        if (col==0)or ((row ==6)and col>0):\n",
    "            print('*',end='')\n",
    "        else:\n",
    "            print(end=\" \")\n",
    "    print()"
   ]
  },
  {
   "cell_type": "code",
   "execution_count": 19,
   "id": "dee37e02",
   "metadata": {},
   "outputs": [
    {
     "name": "stdout",
     "output_type": "stream",
     "text": [
      "*   *\n",
      "** **\n",
      "* * *\n",
      "*   *\n",
      "*   *\n",
      "*   *\n",
      "*   *\n"
     ]
    }
   ],
   "source": [
    "for row in range(7):\n",
    "    for col in range(5):\n",
    "        if (col==0 or col==4)or ((row ==1 and col==1 )or (row==1 and col==3) or (row==2 and col==2)):\n",
    "            print('*',end='')\n",
    "        else:\n",
    "            print(end=\" \")\n",
    "    print()"
   ]
  },
  {
   "cell_type": "code",
   "execution_count": null,
   "id": "42f02f09",
   "metadata": {},
   "outputs": [],
   "source": []
  }
 ],
 "metadata": {
  "kernelspec": {
   "display_name": "Python 3 (ipykernel)",
   "language": "python",
   "name": "python3"
  },
  "language_info": {
   "codemirror_mode": {
    "name": "ipython",
    "version": 3
   },
   "file_extension": ".py",
   "mimetype": "text/x-python",
   "name": "python",
   "nbconvert_exporter": "python",
   "pygments_lexer": "ipython3",
   "version": "3.8.9"
  }
 },
 "nbformat": 4,
 "nbformat_minor": 5
}
